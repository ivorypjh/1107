{
 "cells": [
  {
   "cell_type": "markdown",
   "id": "f0e03e0d",
   "metadata": {},
   "source": [
    "## 패키지 import"
   ]
  },
  {
   "cell_type": "code",
   "execution_count": 1,
   "id": "c2936bd9",
   "metadata": {},
   "outputs": [],
   "source": [
    "import numpy as np\n",
    "import pandas as pd\n",
    "import matplotlib.pyplot as plt\n",
    "\n",
    "import os"
   ]
  },
  {
   "cell_type": "markdown",
   "id": "0ce26e00",
   "metadata": {},
   "source": [
    "## 데이터 가져오기"
   ]
  },
  {
   "cell_type": "code",
   "execution_count": 3,
   "id": "f392c4a6",
   "metadata": {},
   "outputs": [],
   "source": [
    "data = pd.read_excel('./~~~.xlsx')"
   ]
  },
  {
   "cell_type": "code",
   "execution_count": null,
   "id": "f8ec6c9a",
   "metadata": {},
   "outputs": [],
   "source": [
    "data.head()"
   ]
  },
  {
   "cell_type": "markdown",
   "id": "137c718f",
   "metadata": {},
   "source": [
    "## 시간 데이터 구분하기"
   ]
  },
  {
   "cell_type": "code",
   "execution_count": 5,
   "id": "39e56ca8",
   "metadata": {},
   "outputs": [],
   "source": [
    "# 접근 시간 데이터의 타입을 str 로 설정\n",
    "data['init_time'] = data['strt_dt'].astype('str')"
   ]
  },
  {
   "cell_type": "code",
   "execution_count": null,
   "id": "4e7597ca",
   "metadata": {},
   "outputs": [],
   "source": [
    "# 확인\n",
    "data.head()"
   ]
  },
  {
   "cell_type": "code",
   "execution_count": 8,
   "id": "17866597",
   "metadata": {},
   "outputs": [],
   "source": [
    "# 시간 컬럼 분리\n",
    "\n",
    "# 임시로 저장할 리스트 생성\n",
    "dates = []\n",
    "\n",
    "for item in data['init_time']:\n",
    "    dates.append([item[0:4], item[4:6], item[6:8], item[8:10], item[10:12], item[12:]])"
   ]
  },
  {
   "cell_type": "code",
   "execution_count": 9,
   "id": "2c852639",
   "metadata": {},
   "outputs": [],
   "source": [
    "# 빈 배열 생성해서 데이터 저장 - 길이 맞추기 용\n",
    "\n",
    "year = []\n",
    "mon = []\n",
    "day = []\n",
    "hour = []\n",
    "mi = []\n",
    "sec = []\n",
    "\n",
    "for item in dates:\n",
    "    year.append(item[0])\n",
    "    mon.append(item[1])\n",
    "    day.append(item[2])\n",
    "    hour.append(item[3])\n",
    "    mi.append(item[4])\n",
    "    sec.append(item[5])"
   ]
  },
  {
   "cell_type": "code",
   "execution_count": 10,
   "id": "aad73941",
   "metadata": {},
   "outputs": [],
   "source": [
    "# 데이터가 저장되어 있는 배열에서 데이터를 가져와서\n",
    "# 원본 데이터에 추가 - 새로운 컬럼 생성\n",
    "\n",
    "data['year'] = year\n",
    "data['month'] = mon\n",
    "data['day'] = day\n",
    "data['hour'] = hour\n",
    "data['min'] = mi\n",
    "data['sec'] = sec"
   ]
  },
  {
   "cell_type": "code",
   "execution_count": null,
   "id": "a42b156a",
   "metadata": {},
   "outputs": [],
   "source": [
    "# 데이터 입력 확인\n",
    "data.head()"
   ]
  },
  {
   "cell_type": "code",
   "execution_count": null,
   "id": "76b7f172",
   "metadata": {},
   "outputs": [],
   "source": [
    "# 필요 없는 strt_dt, init_time 컬럼 삭제\n",
    "\n",
    "data.drop('strt_dt', axis = 1, inplace = True)\n",
    "data.drop('init_time', axis = 1, inplace = True)\n",
    "\n",
    "# 삭제 확인\n",
    "data.head()"
   ]
  },
  {
   "cell_type": "markdown",
   "id": "bd78535a",
   "metadata": {},
   "source": [
    "## 데이터에 요일 추가하기"
   ]
  },
  {
   "cell_type": "code",
   "execution_count": 19,
   "id": "6b1d6594",
   "metadata": {},
   "outputs": [],
   "source": [
    "# 9월 1일은 금요일\n",
    "\n",
    "# 요일을 임시로 저장할 리스트 생성\n",
    "day_of_week = []\n",
    "\n",
    "for item in data['day']:\n",
    "    num = int(item) % 7\n",
    "    \n",
    "    if num == 0:\n",
    "        day_of_week.append('금')\n",
    "    elif num == 1:\n",
    "        day_of_week.append('토')\n",
    "    elif num == 2:\n",
    "        day_of_week.append('일')\n",
    "    elif num == 3:\n",
    "        day_of_week.append('월')\n",
    "    elif num == 4:\n",
    "        day_of_week.append('화')\n",
    "    elif num == 5:\n",
    "        day_of_week.append('수')\n",
    "    elif num == 6:\n",
    "        day_of_week.append('목')\n"
   ]
  },
  {
   "cell_type": "code",
   "execution_count": 16,
   "id": "615c188a",
   "metadata": {
    "scrolled": false
   },
   "outputs": [],
   "source": [
    "# 확인\n",
    "\n",
    "#day_of_week"
   ]
  },
  {
   "cell_type": "code",
   "execution_count": 20,
   "id": "fa196b1c",
   "metadata": {},
   "outputs": [],
   "source": [
    "data['day_of_week'] = day_of_week"
   ]
  },
  {
   "cell_type": "code",
   "execution_count": null,
   "id": "48a406a1",
   "metadata": {},
   "outputs": [],
   "source": [
    "data.head(20)"
   ]
  },
  {
   "cell_type": "code",
   "execution_count": 24,
   "id": "f85ac9d7",
   "metadata": {},
   "outputs": [
    {
     "data": {
      "text/plain": [
       "7"
      ]
     },
     "execution_count": 24,
     "metadata": {},
     "output_type": "execute_result"
    }
   ],
   "source": [
    "data['day_of_week'].nunique()"
   ]
  },
  {
   "cell_type": "code",
   "execution_count": 25,
   "id": "8ad12f99",
   "metadata": {},
   "outputs": [
    {
     "data": {
      "text/plain": [
       "일    951\n",
       "토    951\n",
       "월    817\n",
       "수    595\n",
       "금    589\n",
       "화    574\n",
       "목    565\n",
       "Name: day_of_week, dtype: int64"
      ]
     },
     "execution_count": 25,
     "metadata": {},
     "output_type": "execute_result"
    }
   ],
   "source": [
    "data['day_of_week'].value_counts()"
   ]
  },
  {
   "cell_type": "code",
   "execution_count": 26,
   "id": "10d30904",
   "metadata": {},
   "outputs": [
    {
     "data": {
      "text/plain": [
       "5042"
      ]
     },
     "execution_count": 26,
     "metadata": {},
     "output_type": "execute_result"
    }
   ],
   "source": [
    "sum(data['day_of_week'].value_counts())"
   ]
  },
  {
   "cell_type": "markdown",
   "id": "8f25d338",
   "metadata": {},
   "source": [
    "## data frame 을 엑셀 파일로 저장"
   ]
  },
  {
   "cell_type": "code",
   "execution_count": 27,
   "id": "1f14843d",
   "metadata": {},
   "outputs": [],
   "source": [
    "data.to_excel(excel_writer='preprocessing_day.xlsx')"
   ]
  }
 ],
 "metadata": {
  "kernelspec": {
   "display_name": "Python 3 (ipykernel)",
   "language": "python",
   "name": "python3"
  },
  "language_info": {
   "codemirror_mode": {
    "name": "ipython",
    "version": 3
   },
   "file_extension": ".py",
   "mimetype": "text/x-python",
   "name": "python",
   "nbconvert_exporter": "python",
   "pygments_lexer": "ipython3",
   "version": "3.10.9"
  }
 },
 "nbformat": 4,
 "nbformat_minor": 5
}
